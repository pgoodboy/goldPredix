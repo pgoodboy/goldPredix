{
  "nbformat": 4,
  "nbformat_minor": 0,
  "metadata": {
    "kernelspec": {
      "display_name": "Python 3",
      "language": "python",
      "name": "python3"
    },
    "language_info": {
      "codemirror_mode": {
        "name": "ipython",
        "version": 3
      },
      "file_extension": ".py",
      "mimetype": "text/x-python",
      "name": "python",
      "nbconvert_exporter": "python",
      "pygments_lexer": "ipython3",
      "version": "3.7.3"
    },
    "colab": {
      "name": "GoldPredictor-Pejoy.ipynb",
      "provenance": [],
      "collapsed_sections": [],
      "include_colab_link": true
    }
  },
  "cells": [
    {
      "cell_type": "markdown",
      "metadata": {
        "id": "view-in-github",
        "colab_type": "text"
      },
      "source": [
        "<a href=\"https://colab.research.google.com/github/pgoodboy/goldPredix/blob/master/GoldPredictor_Pejoy.ipynb\" target=\"_parent\"><img src=\"https://colab.research.google.com/assets/colab-badge.svg\" alt=\"Open In Colab\"/></a>"
      ]
    },
    {
      "cell_type": "code",
      "metadata": {
        "id": "a_gkQrQm0e7n",
        "colab_type": "code",
        "outputId": "2b5d350c-7b3f-47b9-ad49-52f4366ed0c4",
        "colab": {
          "base_uri": "https://localhost:8080/",
          "height": 34
        }
      },
      "source": [
        "import numpy as np \n",
        "import pandas as pd \n",
        "import os\n",
        "from sklearn import preprocessing\n",
        "from matplotlib import pyplot as plt\n",
        "from matplotlib import style\n",
        "from google.colab import drive\n",
        "drive.mount('/content/drive/')\n",
        "dataGold = pd.read_csv('/content/drive/My Drive/Colab Notebooks/Data/gold.csv', parse_dates=['Date'], index_col='Date')"
      ],
      "execution_count": 0,
      "outputs": [
        {
          "output_type": "stream",
          "text": [
            "Drive already mounted at /content/drive/; to attempt to forcibly remount, call drive.mount(\"/content/drive/\", force_remount=True).\n"
          ],
          "name": "stdout"
        }
      ]
    },
    {
      "cell_type": "code",
      "metadata": {
        "id": "3SwgOLiY0e7q",
        "colab_type": "code",
        "outputId": "dd6e3896-4c34-4284-b22c-4920a1a155b9",
        "colab": {
          "base_uri": "https://localhost:8080/",
          "height": 34
        }
      },
      "source": [
        "print(dataGold.columns)"
      ],
      "execution_count": 0,
      "outputs": [
        {
          "output_type": "stream",
          "text": [
            "Index(['Gold'], dtype='object')\n"
          ],
          "name": "stdout"
        }
      ]
    },
    {
      "cell_type": "code",
      "metadata": {
        "id": "PYbXroMa0e7u",
        "colab_type": "code",
        "colab": {}
      },
      "source": [
        "#dataUSD = pd.read_csv(r'/content/drive/My Drive/Colab Notebooks/Data/USDBHD.csv',parse_dates=['Date'], index_col='Date')"
      ],
      "execution_count": 0,
      "outputs": []
    },
    {
      "cell_type": "code",
      "metadata": {
        "id": "bXypIabk0e7y",
        "colab_type": "code",
        "colab": {}
      },
      "source": [
        "#print(dataUSD.columns)"
      ],
      "execution_count": 0,
      "outputs": []
    },
    {
      "cell_type": "code",
      "metadata": {
        "id": "5zDrDyW80e72",
        "colab_type": "code",
        "colab": {}
      },
      "source": [
        "dataDJIA = pd.read_csv(r'/content/drive/My Drive/Colab Notebooks/Data/DJIA.csv',parse_dates=['Date'], index_col='Date')\n",
        "dataGas = pd.read_csv(r'/content/drive/My Drive/Colab Notebooks/Data/Gas.csv',parse_dates=['Date'], index_col='Date')"
      ],
      "execution_count": 0,
      "outputs": []
    },
    {
      "cell_type": "code",
      "metadata": {
        "id": "KDzXCQt30e75",
        "colab_type": "code",
        "outputId": "4a39f4c0-234f-4fd2-dedd-aee9d00d8708",
        "colab": {
          "base_uri": "https://localhost:8080/",
          "height": 34
        }
      },
      "source": [
        "print(dataGas.columns)"
      ],
      "execution_count": 0,
      "outputs": [
        {
          "output_type": "stream",
          "text": [
            "Index(['RegAll', 'RegConvention'], dtype='object')\n"
          ],
          "name": "stdout"
        }
      ]
    },
    {
      "cell_type": "code",
      "metadata": {
        "id": "USIrFM9G0e79",
        "colab_type": "code",
        "colab": {}
      },
      "source": [
        "#merge = pd.merge(dataGold,dataUSD,on = 'Date',how = 'outer')\n",
        "merge = pd.merge(dataGold, dataDJIA,on = 'Date', how = 'outer')\n",
        "merge = pd.merge(merge, dataGas,on = 'Date', how = 'outer')"
      ],
      "execution_count": 0,
      "outputs": []
    },
    {
      "cell_type": "code",
      "metadata": {
        "id": "u4Svcl8g0e8A",
        "colab_type": "code",
        "outputId": "23685789-0b54-4a41-ea89-236db04fd204",
        "colab": {
          "base_uri": "https://localhost:8080/",
          "height": 68
        }
      },
      "source": [
        "print(merge.columns)"
      ],
      "execution_count": 0,
      "outputs": [
        {
          "output_type": "stream",
          "text": [
            "Index(['Gold', 'DJIAOpen', 'DJIAHigh', 'DJIALow', 'DJIAClose', 'RegAll',\n",
            "       'RegConvention'],\n",
            "      dtype='object')\n"
          ],
          "name": "stdout"
        }
      ]
    },
    {
      "cell_type": "code",
      "metadata": {
        "id": "2-dS4zWy0e8F",
        "colab_type": "code",
        "colab": {}
      },
      "source": [
        "scaler = preprocessing.StandardScaler()\n",
        "scaled_Data = scaler.fit_transform(merge)\n",
        "scaled_Data = pd.DataFrame(scaled_Data, columns = ['Gold','DJIAOpen', 'DJIAHigh', 'DJIALow', 'DJIAClose','RegAll','RegConvention'])"
      ],
      "execution_count": 0,
      "outputs": []
    },
    {
      "cell_type": "code",
      "metadata": {
        "id": "5DfixU3u0e8K",
        "colab_type": "code",
        "colab": {}
      },
      "source": [
        "merge.sort_values(by=['Date'],axis=0,ascending=True,inplace=True)"
      ],
      "execution_count": 0,
      "outputs": []
    },
    {
      "cell_type": "code",
      "metadata": {
        "id": "YMtI5OzO0e8N",
        "colab_type": "code",
        "colab": {}
      },
      "source": [
        "NaNUsdBhd = merge[merge['RegAll'].isna()]\n",
        "NaNDJIA = merge[merge['DJIAHigh'].isna()]\n",
        "discard = pd.merge(NaNUsdBhd,NaNDJIA,on = 'Date',how = 'inner')"
      ],
      "execution_count": 0,
      "outputs": []
    },
    {
      "cell_type": "code",
      "metadata": {
        "id": "TC81O3vJ0e8T",
        "colab_type": "code",
        "colab": {}
      },
      "source": [
        "merge.drop(discard.index, inplace=True)"
      ],
      "execution_count": 0,
      "outputs": []
    },
    {
      "cell_type": "code",
      "metadata": {
        "id": "yHAXHev70e8b",
        "colab_type": "code",
        "colab": {}
      },
      "source": [
        "merge[['RegAll', 'RegConvention']] = merge[['RegAll', 'RegConvention']].fillna(method='ffill')\n",
        "merge[['RegAll', 'RegConvention']] = merge[['RegAll', 'RegConvention']].fillna(method='bfill')\n",
        "merge[['Gold']] = merge[['Gold']].interpolate(method = 'time')\n",
        "#merge[['USD-BHD']] = merge[['USD-BHD']].interpolate(method = 'time')\n",
        "merge[['DJIAOpen']] = merge[['DJIAOpen']].interpolate(method = 'time')\n",
        "merge[['DJIAHigh']] = merge[['DJIAHigh']].interpolate(method = 'time')\n",
        "merge[['DJIALow']] = merge[['DJIALow']].interpolate(method = 'time')\n",
        "merge[['DJIAClose']] = merge[['DJIAClose']].interpolate(method = 'time')"
      ],
      "execution_count": 0,
      "outputs": []
    },
    {
      "cell_type": "code",
      "metadata": {
        "id": "ja9vE-Eq0e8o",
        "colab_type": "code",
        "outputId": "cf760633-f8d7-4265-e713-38d7d06e20e0",
        "colab": {
          "base_uri": "https://localhost:8080/",
          "height": 514
        }
      },
      "source": [
        "import seaborn as sns\n",
        "scaler = preprocessing.MinMaxScaler()\n",
        "scaled_Data = scaler.fit_transform(merge)\n",
        "scaled_Data = pd.DataFrame(scaled_Data, columns = ['Gold','DJIAOpen', 'DJIAHigh', 'DJIALow', 'DJIAClose','RegAll','RegConvention'])\n",
        "y = scaled_Data.iloc[10:,0]\n",
        "X = scaled_Data.iloc[:-10,:]\n",
        "sns.kdeplot(y)\n",
        "#sns.kdeplot(scaled_Data['USD-BHD'])\n",
        "#sns.kdeplot(scaled_Data['DJIAOpen'])\n",
        "#sns.kdeplot(scaled_Data['DJIAHigh'])\n",
        "#sns.kdeplot(scaled_Data['DJIALow'])\n",
        "sns.kdeplot(X['DJIAClose'])\n",
        "sns.kdeplot(X['RegAll'])\n",
        "#sns.kdeplot(scaled_Data['RegConvention'])\n",
        "plt.show()\n",
        "scaled_Data\n",
        "scaled_Data.corr(method = 'pearson')"
      ],
      "execution_count": 0,
      "outputs": [
        {
          "output_type": "display_data",
          "data": {
            "image/png": "[encoded data removed]",
            "text/plain": [
              "<Figure size 432x288 with 1 Axes>"
            ]
          },
          "metadata": {
            "tags": [],
            "needs_background": "light"
          }
        },
        {
          "output_type": "execute_result",
          "data": {
            "text/html": [
              "<div>\n",
              "<style scoped>\n",
              "    .dataframe tbody tr th:only-of-type {\n",
              "        vertical-align: middle;\n",
              "    }\n",
              "\n",
              "    .dataframe tbody tr th {\n",
              "        vertical-align: top;\n",
              "    }\n",
              "\n",
              "    .dataframe thead th {\n",
              "        text-align: right;\n",
              "    }\n",
              "</style>\n",
              "<table border=\"1\" class=\"dataframe\">\n",
              "  <thead>\n",
              "    <tr style=\"text-align: right;\">\n",
              "      <th></th>\n",
              "      <th>Gold</th>\n",
              "      <th>DJIAOpen</th>\n",
              "      <th>DJIAHigh</th>\n",
              "      <th>DJIALow</th>\n",
              "      <th>DJIAClose</th>\n",
              "      <th>RegAll</th>\n",
              "      <th>RegConvention</th>\n",
              "    </tr>\n",
              "  </thead>\n",
              "  <tbody>\n",
              "    <tr>\n",
              "      <th>Gold</th>\n",
              "      <td>1.000000</td>\n",
              "      <td>0.712841</td>\n",
              "      <td>0.711023</td>\n",
              "      <td>0.714707</td>\n",
              "      <td>0.713073</td>\n",
              "      <td>0.841559</td>\n",
              "      <td>0.833623</td>\n",
              "    </tr>\n",
              "    <tr>\n",
              "      <th>DJIAOpen</th>\n",
              "      <td>0.712841</td>\n",
              "      <td>1.000000</td>\n",
              "      <td>0.999899</td>\n",
              "      <td>0.999868</td>\n",
              "      <td>0.999820</td>\n",
              "      <td>0.600034</td>\n",
              "      <td>0.581920</td>\n",
              "    </tr>\n",
              "    <tr>\n",
              "      <th>DJIAHigh</th>\n",
              "      <td>0.711023</td>\n",
              "      <td>0.999899</td>\n",
              "      <td>1.000000</td>\n",
              "      <td>0.999778</td>\n",
              "      <td>0.999882</td>\n",
              "      <td>0.599423</td>\n",
              "      <td>0.581312</td>\n",
              "    </tr>\n",
              "    <tr>\n",
              "      <th>DJIALow</th>\n",
              "      <td>0.714707</td>\n",
              "      <td>0.999868</td>\n",
              "      <td>0.999778</td>\n",
              "      <td>1.000000</td>\n",
              "      <td>0.999891</td>\n",
              "      <td>0.600920</td>\n",
              "      <td>0.582814</td>\n",
              "    </tr>\n",
              "    <tr>\n",
              "      <th>DJIAClose</th>\n",
              "      <td>0.713073</td>\n",
              "      <td>0.999820</td>\n",
              "      <td>0.999882</td>\n",
              "      <td>0.999891</td>\n",
              "      <td>1.000000</td>\n",
              "      <td>0.600135</td>\n",
              "      <td>0.582020</td>\n",
              "    </tr>\n",
              "    <tr>\n",
              "      <th>RegAll</th>\n",
              "      <td>0.841559</td>\n",
              "      <td>0.600034</td>\n",
              "      <td>0.599423</td>\n",
              "      <td>0.600920</td>\n",
              "      <td>0.600135</td>\n",
              "      <td>1.000000</td>\n",
              "      <td>0.999560</td>\n",
              "    </tr>\n",
              "    <tr>\n",
              "      <th>RegConvention</th>\n",
              "      <td>0.833623</td>\n",
              "      <td>0.581920</td>\n",
              "      <td>0.581312</td>\n",
              "      <td>0.582814</td>\n",
              "      <td>0.582020</td>\n",
              "      <td>0.999560</td>\n",
              "      <td>1.000000</td>\n",
              "    </tr>\n",
              "  </tbody>\n",
              "</table>\n",
              "</div>"
            ],
            "text/plain": [
              "                   Gold  DJIAOpen  DJIAHigh  ...  DJIAClose    RegAll  RegConvention\n",
              "Gold           1.000000  0.712841  0.711023  ...   0.713073  0.841559       0.833623\n",
              "DJIAOpen       0.712841  1.000000  0.999899  ...   0.999820  0.600034       0.581920\n",
              "DJIAHigh       0.711023  0.999899  1.000000  ...   0.999882  0.599423       0.581312\n",
              "DJIALow        0.714707  0.999868  0.999778  ...   0.999891  0.600920       0.582814\n",
              "DJIAClose      0.713073  0.999820  0.999882  ...   1.000000  0.600135       0.582020\n",
              "RegAll         0.841559  0.600034  0.599423  ...   0.600135  1.000000       0.999560\n",
              "RegConvention  0.833623  0.581920  0.581312  ...   0.582020  0.999560       1.000000\n",
              "\n",
              "[7 rows x 7 columns]"
            ]
          },
          "metadata": {
            "tags": []
          },
          "execution_count": 82
        }
      ]
    },
    {
      "cell_type": "code",
      "metadata": {
        "id": "2rX6DNrv0e8v",
        "colab_type": "code",
        "colab": {}
      },
      "source": [
        "from sklearn.model_selection import train_test_split\n",
        "X_train, X_test, y_train, y_test = train_test_split(X, y, random_state = 42, test_size = 0.2)\n",
        "from sklearn.linear_model import LinearRegression\n",
        "from sklearn import model_selection\n",
        "from sklearn.linear_model import LassoCV\n",
        "from sklearn.svm import SVR\n",
        "from sklearn.ensemble import GradientBoostingRegressor\n",
        "linearM = LinearRegression()\n",
        "lassoM = LassoCV(eps = 0.005)\n",
        "svrPolyM = SVR(kernel='poly')\n",
        "gradientM = GradientBoostingRegressor()\n",
        "kfold = model_selection.KFold(n_splits=10, random_state = 420, shuffle=True)\n",
        "linearScore = model_selection.cross_val_score(linearM, X_train, y_train, cv = kfold)\n",
        "lassoScore = model_selection.cross_val_score(lassoM, X_train, y_train, cv = kfold)\n",
        "svrPolyScore = model_selection.cross_val_score(svrPolyM, X_train, y_train, cv = kfold)\n",
        "gradientScore = model_selection.cross_val_score(gradientM, X_train, y_train, cv = kfold)\n"
      ],
      "execution_count": 0,
      "outputs": []
    },
    {
      "cell_type": "code",
      "metadata": {
        "id": "uXttg8tV0e8z",
        "colab_type": "code",
        "outputId": "ad29cbd4-6d2e-4046-ebab-61d98d61d120",
        "colab": {
          "base_uri": "https://localhost:8080/",
          "height": 102
        }
      },
      "source": [
        "print(\"----------Score----------\")\n",
        "print(\"Linear Regression : Avg.\",linearScore.mean(), \"S.D.\",linearScore.std())\n",
        "print(\"Lasso Regression : Avg.\",lassoScore.mean(),\"S.D.\", lassoScore.std())\n",
        "print(\"SVR Polynomial Regression : Avg.\",svrPolyScore.mean(),\"S.D.\", svrPolyScore.std())\n",
        "print(\"Gradient Boosting Regression : Avg.\",gradientScore.mean(),\"S.D.\", gradientScore.std())"
      ],
      "execution_count": 0,
      "outputs": [
        {
          "output_type": "stream",
          "text": [
            "----------Score----------\n",
            "Linear Regression : Avg. 0.9962509880834034 S.D. 0.00044675533341935713\n",
            "Lasso Regression : Avg. 0.9962361754997306 S.D. 0.0004298343175551036\n",
            "SVR Polynomial Regression : Avg. 0.9095202302464737 S.D. 0.004365161831200933\n",
            "Gradient Boosting Regression : Avg. 0.9970998490087013 S.D. 0.00036904701561825664\n"
          ],
          "name": "stdout"
        }
      ]
    },
    {
      "cell_type": "code",
      "metadata": {
        "id": "4T-njCce0e84",
        "colab_type": "code",
        "outputId": "01b8a780-0e9a-41ba-98b7-3ea334a47a19",
        "colab": {
          "base_uri": "https://localhost:8080/",
          "height": 170
        }
      },
      "source": [
        "linearM.fit(X_train, y_train)\n",
        "lassoM.fit(X_train, y_train)\n",
        "svrPolyM.fit(X_train, y_train)\n",
        "gradientM.fit(X_train, y_train)"
      ],
      "execution_count": 0,
      "outputs": [
        {
          "output_type": "execute_result",
          "data": {
            "text/plain": [
              "GradientBoostingRegressor(alpha=0.9, ccp_alpha=0.0, criterion='friedman_mse',\n",
              "                          init=None, learning_rate=0.1, loss='ls', max_depth=3,\n",
              "                          max_features=None, max_leaf_nodes=None,\n",
              "                          min_impurity_decrease=0.0, min_impurity_split=None,\n",
              "                          min_samples_leaf=1, min_samples_split=2,\n",
              "                          min_weight_fraction_leaf=0.0, n_estimators=100,\n",
              "                          n_iter_no_change=None, presort='deprecated',\n",
              "                          random_state=None, subsample=1.0, tol=0.0001,\n",
              "                          validation_fraction=0.1, verbose=0, warm_start=False)"
            ]
          },
          "metadata": {
            "tags": []
          },
          "execution_count": 85
        }
      ]
    },
    {
      "cell_type": "code",
      "metadata": {
        "id": "0TTIJyfD0e8-",
        "colab_type": "code",
        "colab": {}
      },
      "source": [
        "linearTest = linearM.predict(X_test)\n",
        "lassoTest = lassoM.predict(X_test)\n",
        "svrPolyTest = svrPolyM.predict(X_test)\n",
        "gradientTest = gradientM.predict(X_test)"
      ],
      "execution_count": 0,
      "outputs": []
    },
    {
      "cell_type": "code",
      "metadata": {
        "id": "CDlRIA4a0e9C",
        "colab_type": "code",
        "outputId": "f1854c17-9efb-4938-b3dc-175ebd0fc377",
        "colab": {
          "base_uri": "https://localhost:8080/",
          "height": 221
        }
      },
      "source": [
        "from sklearn import metrics\n",
        "print('Linear Regression')\n",
        "print(\"RMSE : \",metrics.mean_squared_error(y_test, linearTest))\n",
        "print(\"R^2 Score : \",metrics.r2_score(y_test, linearTest))\n",
        "print('Lasso Regression')\n",
        "print(\"RMSE : \",metrics.mean_squared_error(y_test, lassoTest))\n",
        "print(\"R^2 Score : \",metrics.r2_score(y_test, lassoTest))\n",
        "print('SVR Polynomial Regression')\n",
        "print(\"RMSE : \",metrics.mean_squared_error(y_test, svrPolyTest))\n",
        "print(\"R^2 Score : \",metrics.r2_score(y_test, svrPolyTest))\n",
        "print('Gradient Boosting Regression')\n",
        "print(\"RMSE : \",metrics.mean_squared_error(y_test, gradientTest))\n",
        "print(\"R^2 Score : \",metrics.r2_score(y_test, gradientTest))"
      ],
      "execution_count": 0,
      "outputs": [
        {
          "output_type": "stream",
          "text": [
            "Linear Regression\n",
            "RMSE :  0.00031723624629553126\n",
            "R^2 Score :  0.9960545654917381\n",
            "Lasso Regression\n",
            "RMSE :  0.00031770083691844744\n",
            "R^2 Score :  0.9960487874260308\n",
            "SVR Polynomial Regression\n",
            "RMSE :  0.007533065768980833\n",
            "R^2 Score :  0.9063120372119915\n",
            "Gradient Boosting Regression\n",
            "RMSE :  0.0002537869289575186\n",
            "R^2 Score :  0.9968436781138748\n"
          ],
          "name": "stdout"
        }
      ]
    },
    {
      "cell_type": "code",
      "metadata": {
        "id": "7CpZUxCH0e9F",
        "colab_type": "code",
        "outputId": "254bbfbb-f32f-4a1a-9908-6a39e30b9a0e",
        "colab": {
          "base_uri": "https://localhost:8080/",
          "height": 442
        }
      },
      "source": [
        "from sklearn.model_selection import GridSearchCV\n",
        "learnRate = [0.000001,0.0001,0.001, 0.1]\n",
        "nEstimate = [1, 10 ,100, 1000]\n",
        "subSamp = [0.00001,0.01, 0.1]\n",
        "mxDepth = [1,3,5,10,20]\n",
        "gridParam = [{'learning_rate' : learnRate, \n",
        "               'n_estimators' : nEstimate,\n",
        "               'subsample' : subSamp, \n",
        "               'max_depth' : mxDepth},\n",
        "              ]\n",
        "grid = model_selection.GridSearchCV(GradientBoostingRegressor(), gridParam, cv = kfold)\n",
        "grid.fit(X_train, y_train)\n"
      ],
      "execution_count": 0,
      "outputs": [
        {
          "output_type": "execute_result",
          "data": {
            "text/plain": [
              "GridSearchCV(cv=KFold(n_splits=10, random_state=420, shuffle=True),\n",
              "             error_score=nan,\n",
              "             estimator=GradientBoostingRegressor(alpha=0.9, ccp_alpha=0.0,\n",
              "                                                 criterion='friedman_mse',\n",
              "                                                 init=None, learning_rate=0.1,\n",
              "                                                 loss='ls', max_depth=3,\n",
              "                                                 max_features=None,\n",
              "                                                 max_leaf_nodes=None,\n",
              "                                                 min_impurity_decrease=0.0,\n",
              "                                                 min_impurity_split=None,\n",
              "                                                 min_samples_leaf=1,\n",
              "                                                 min_samples_split=2,\n",
              "                                                 min_wei...\n",
              "                                                 presort='deprecated',\n",
              "                                                 random_state=None,\n",
              "                                                 subsample=1.0, tol=0.0001,\n",
              "                                                 validation_fraction=0.1,\n",
              "                                                 verbose=0, warm_start=False),\n",
              "             iid='deprecated', n_jobs=None,\n",
              "             param_grid=[{'learning_rate': [1e-06, 0.0001, 0.001, 0.1],\n",
              "                          'max_depth': [1, 3, 5, 10, 20],\n",
              "                          'n_estimators': [1, 10, 100, 1000],\n",
              "                          'subsample': [1e-05, 0.01, 0.1]}],\n",
              "             pre_dispatch='2*n_jobs', refit=True, return_train_score=False,\n",
              "             scoring=None, verbose=0)"
            ]
          },
          "metadata": {
            "tags": []
          },
          "execution_count": 88
        }
      ]
    },
    {
      "cell_type": "code",
      "metadata": {
        "id": "h9pXIfE00e9I",
        "colab_type": "code",
        "outputId": "f8e7c601-1b5d-4571-b3ff-7c660a3e807b",
        "colab": {
          "base_uri": "https://localhost:8080/",
          "height": 34
        }
      },
      "source": [
        "grid.best_params_"
      ],
      "execution_count": 0,
      "outputs": [
        {
          "output_type": "execute_result",
          "data": {
            "text/plain": [
              "{'learning_rate': 0.1, 'max_depth': 10, 'n_estimators': 1000, 'subsample': 0.1}"
            ]
          },
          "metadata": {
            "tags": []
          },
          "execution_count": 89
        }
      ]
    },
    {
      "cell_type": "code",
      "metadata": {
        "id": "zE9QDl8l0e9M",
        "colab_type": "code",
        "outputId": "aeec23ad-c6d7-4c9e-efc0-ddfb1d597eee",
        "colab": {
          "base_uri": "https://localhost:8080/",
          "height": 34
        }
      },
      "source": [
        "grid.best_score_"
      ],
      "execution_count": 0,
      "outputs": [
        {
          "output_type": "execute_result",
          "data": {
            "text/plain": [
              "0.9985948353621984"
            ]
          },
          "metadata": {
            "tags": []
          },
          "execution_count": 90
        }
      ]
    },
    {
      "cell_type": "code",
      "metadata": {
        "id": "NHUizbBQ0e9P",
        "colab_type": "code",
        "colab": {}
      },
      "source": [
        "gridPred = grid.predict(X_test)"
      ],
      "execution_count": 0,
      "outputs": []
    },
    {
      "cell_type": "code",
      "metadata": {
        "id": "EU1H-xnn0e9U",
        "colab_type": "code",
        "outputId": "79ad67e2-ad3c-4a88-ccb0-12691a2f756e",
        "colab": {
          "base_uri": "https://localhost:8080/",
          "height": 68
        }
      },
      "source": [
        "def mean_absolute_percentage_error(y_true, y_pred): \n",
        "    #y_true, y_pred = np.array(y_true), np.array(y_pred)\n",
        "    y_true,y_pred = y_true.tolist(),y_pred.tolist()\n",
        "    sum = 0\n",
        "    ctn = 0\n",
        "    mx = 0\n",
        "    for i in range(len(y_true)) :\n",
        "      if y_true[i] != 0 :\n",
        "        #if abs((y_true[i] - y_pred[i]) / y_true[i])*100 > 20:\n",
        "          #mx = abs((y_true[i] - y_pred[i]) / y_true[i])\n",
        "          #print(y_true[i] , y_pred[i])\n",
        "          #print(abs((y_true[i] - y_pred[i]) / y_true[i])*100)\n",
        "        sum += abs((y_true[i] - y_pred[i]) / y_true[i])\n",
        "      else :\n",
        "        ctn =+ 1\n",
        "    #print(mx)\n",
        "    return sum/(len(y_true)-ctn) * 100\n",
        "\n",
        "print('RMSE : ',np.sqrt(metrics.mean_squared_error(y_test, gridPred)))\n",
        "print('MAPE : ',mean_absolute_percentage_error(y_test, gridPred))\n",
        "print('R^2 Score : ',metrics.r2_score(y_test, gridPred))\n"
      ],
      "execution_count": 0,
      "outputs": [
        {
          "output_type": "stream",
          "text": [
            "RMSE :  0.010903866876848575\n",
            "MAPE :  9.24558339675175\n",
            "R^2 Score :  0.9985213236813153\n"
          ],
          "name": "stdout"
        }
      ]
    },
    {
      "cell_type": "code",
      "metadata": {
        "id": "d0pVLFeN0e9e",
        "colab_type": "code",
        "outputId": "d622dd5e-914b-4df7-ae62-ef0d845f4638",
        "colab": {
          "base_uri": "https://localhost:8080/",
          "height": 265
        }
      },
      "source": [
        "sns.kdeplot(y_test)\n",
        "sns.kdeplot(gridPred)\n",
        "plt.show()"
      ],
      "execution_count": 0,
      "outputs": [
        {
          "output_type": "display_data",
          "data": {
            "image/png": "[encoded data removed]",
            "text/plain": [
              "<Figure size 432x288 with 1 Axes>"
            ]
          },
          "metadata": {
            "tags": [],
            "needs_background": "light"
          }
        }
      ]
    },
    {
      "cell_type": "code",
      "metadata": {
        "id": "Ra91qXC60e9i",
        "colab_type": "code",
        "outputId": "8314ead3-5952-4c4e-c4fc-a45348f975c8",
        "colab": {
          "base_uri": "https://localhost:8080/",
          "height": 34
        }
      },
      "source": [
        "ctn = 0\n",
        "for i in np.nditer(y_test) :\n",
        "  i=float(i)\n",
        "  if  i == 0:\n",
        "    ctn+=1\n",
        "print(ctn)"
      ],
      "execution_count": 0,
      "outputs": [
        {
          "output_type": "stream",
          "text": [
            "0\n"
          ],
          "name": "stdout"
        }
      ]
    },
    {
      "cell_type": "code",
      "metadata": {
        "id": "84KrqJcJ0e9n",
        "colab_type": "code",
        "colab": {}
      },
      "source": [
        "tlst = gridPred.tolist()"
      ],
      "execution_count": 0,
      "outputs": []
    },
    {
      "cell_type": "code",
      "metadata": {
        "id": "9U4N_I9q0e9p",
        "colab_type": "code",
        "colab": {}
      },
      "source": [
        ""
      ],
      "execution_count": 0,
      "outputs": []
    },
    {
      "cell_type": "code",
      "metadata": {
        "id": "6cwci0dX0of_",
        "colab_type": "code",
        "colab": {}
      },
      "source": [
        ""
      ],
      "execution_count": 0,
      "outputs": []
    }
  ]
}